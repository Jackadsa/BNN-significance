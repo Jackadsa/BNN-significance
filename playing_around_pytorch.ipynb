{
 "cells": [
  {
   "cell_type": "code",
   "execution_count": 1,
   "metadata": {},
   "outputs": [],
   "source": [
    "import energyflow\n",
    "import numpy as np\n",
    "import tensorflow as tf\n",
    "from tensorflow import keras\n",
    "\n",
    "%matplotlib inline\n",
    "%load_ext autoreload\n",
    "%autoreload 2"
   ]
  },
  {
   "cell_type": "code",
   "execution_count": 2,
   "metadata": {},
   "outputs": [],
   "source": [
    "X, Y = energyflow.datasets.qg_jets.load(num_data=100000, generator='pythia', pad=True, with_bc=False, cache_dir='~/.energyflow')"
   ]
  },
  {
   "cell_type": "code",
   "execution_count": 3,
   "metadata": {},
   "outputs": [],
   "source": [
    "# preprocess by centering jets and normalizing pts\n",
    "for x in X:\n",
    "    mask = x[:,0] > 0\n",
    "    yphi_avg = np.average(x[mask,1:3], weights=x[mask,0], axis=0)\n",
    "    x[mask,1:3] -= yphi_avg\n",
    "    x[mask,0] /= x[:,0].sum()"
   ]
  },
  {
   "cell_type": "code",
   "execution_count": 4,
   "metadata": {},
   "outputs": [],
   "source": [
    "# preprocess PIDs so they are O(1) or less\n",
    "X[:,:,3] = X[:,:,3] / 2000"
   ]
  },
  {
   "cell_type": "code",
   "execution_count": 5,
   "metadata": {},
   "outputs": [],
   "source": [
    "nparticles = X.shape[1]"
   ]
  },
  {
   "cell_type": "markdown",
   "metadata": {},
   "source": [
    "# PyTorch"
   ]
  },
  {
   "cell_type": "code",
   "execution_count": 30,
   "metadata": {},
   "outputs": [
    {
     "name": "stdout",
     "output_type": "stream",
     "text": [
      "Net(\n",
      "  (c1): Conv1d(4, 16, kernel_size=(1,), stride=(1,))\n",
      "  (p1): AvgPool1d(kernel_size=(139,), stride=(139,), padding=(0,))\n",
      "  (fc1): Linear(in_features=16, out_features=16, bias=True)\n",
      "  (fc2): Linear(in_features=16, out_features=1, bias=True)\n",
      ")\n"
     ]
    }
   ],
   "source": [
    "import torch\n",
    "import torch.nn as nn\n",
    "import torch.nn.functional as F\n",
    "import torch.optim as optim\n",
    "from torch.autograd import Variable\n",
    "\n",
    "\n",
    "class Net(nn.Module):\n",
    "\n",
    "    def __init__(self):\n",
    "        super(Net, self).__init__()\n",
    "        self.c1 = nn.Conv1d(4, 16, 1)\n",
    "        self.p1 = nn.AvgPool1d(nparticles)\n",
    "        self.fc1 = nn.Linear(16, 16)\n",
    "        self.fc2 = nn.Linear(16, 1)\n",
    "\n",
    "    def forward(self, x):\n",
    "        x = F.relu(self.c1(x))\n",
    "        x = self.p1(x)\n",
    "        x = x.view(-1, self.num_flat_features(x))\n",
    "        x = F.relu(self.fc1(x))\n",
    "        x = F.sigmoid(self.fc2(x))\n",
    "        return x\n",
    "\n",
    "    def num_flat_features(self, x):\n",
    "        size = x.size()[1:]  # all dimensions except the batch dimension\n",
    "        num_features = 1\n",
    "        for s in size:\n",
    "            num_features *= s\n",
    "        return num_features\n",
    "\n",
    "model = Net()\n",
    "print(model)\n"
   ]
  },
  {
   "cell_type": "code",
   "execution_count": 31,
   "metadata": {},
   "outputs": [
    {
     "name": "stdout",
     "output_type": "stream",
     "text": [
      "369\n"
     ]
    }
   ],
   "source": [
    "pytorch_total_params = sum(p.numel() for p in model.parameters() if p.requires_grad)\n",
    "print(pytorch_total_params)"
   ]
  },
  {
   "cell_type": "code",
   "execution_count": 32,
   "metadata": {},
   "outputs": [],
   "source": [
    "X_torch = torch.tensor(X, dtype=torch.float).transpose(1, 2)"
   ]
  },
  {
   "cell_type": "code",
   "execution_count": 33,
   "metadata": {},
   "outputs": [],
   "source": [
    "# model(X_torch)"
   ]
  },
  {
   "cell_type": "code",
   "execution_count": 34,
   "metadata": {},
   "outputs": [],
   "source": [
    "Y_torch = torch.tensor(Y, dtype=torch.float).unsqueeze(1)"
   ]
  },
  {
   "cell_type": "code",
   "execution_count": 35,
   "metadata": {},
   "outputs": [],
   "source": [
    "from torch.utils.data import Dataset, DataLoader\n",
    "\n",
    "class QGDataset(Dataset):\n",
    "    \"\"\"Quark/Gluon dataset from energyflow\"\"\"\n",
    "\n",
    "    def __init__(self, X, Y):\n",
    "        self.X = X\n",
    "        self.Y = Y\n",
    "    \n",
    "    def __len__(self):\n",
    "        return len(self.Y)\n",
    "\n",
    "    def __getitem__(self, idx):\n",
    "        return self.X[idx], self.Y[idx]\n"
   ]
  },
  {
   "cell_type": "code",
   "execution_count": 36,
   "metadata": {},
   "outputs": [],
   "source": [
    "dataset = QGDataset(X_torch, Y_torch)\n",
    "dataloader = DataLoader(dataset, batch_size=5,\n",
    "                        shuffle=False)"
   ]
  },
  {
   "cell_type": "code",
   "execution_count": 37,
   "metadata": {},
   "outputs": [],
   "source": [
    "criterion = nn.BCELoss()\n",
    "optimizer = optim.Adam(model.parameters())"
   ]
  },
  {
   "cell_type": "code",
   "execution_count": 38,
   "metadata": {},
   "outputs": [
    {
     "name": "stdout",
     "output_type": "stream",
     "text": [
      "[1,  2000] loss: 0.669\n",
      "[1,  4000] loss: 0.563\n",
      "[1,  6000] loss: 0.540\n",
      "[1,  8000] loss: 0.522\n",
      "[1, 10000] loss: 0.519\n",
      "[1, 12000] loss: 0.509\n",
      "[1, 14000] loss: 0.511\n",
      "[1, 16000] loss: 0.502\n",
      "[1, 18000] loss: 0.493\n",
      "[1, 20000] loss: 0.499\n",
      "[2,  2000] loss: 0.489\n",
      "[2,  4000] loss: 0.488\n",
      "[2,  6000] loss: 0.487\n",
      "[2,  8000] loss: 0.478\n",
      "[2, 10000] loss: 0.485\n",
      "[2, 12000] loss: 0.481\n",
      "[2, 14000] loss: 0.491\n",
      "[2, 16000] loss: 0.482\n",
      "[2, 18000] loss: 0.479\n",
      "[2, 20000] loss: 0.488\n",
      "[3,  2000] loss: 0.479\n",
      "[3,  4000] loss: 0.481\n",
      "[3,  6000] loss: 0.479\n",
      "[3,  8000] loss: 0.472\n",
      "[3, 10000] loss: 0.481\n",
      "[3, 12000] loss: 0.477\n",
      "[3, 14000] loss: 0.486\n",
      "[3, 16000] loss: 0.478\n",
      "[3, 18000] loss: 0.476\n",
      "[3, 20000] loss: 0.484\n",
      "[4,  2000] loss: 0.474\n",
      "[4,  4000] loss: 0.478\n",
      "[4,  6000] loss: 0.475\n",
      "[4,  8000] loss: 0.468\n",
      "[4, 10000] loss: 0.478\n",
      "[4, 12000] loss: 0.474\n",
      "[4, 14000] loss: 0.482\n",
      "[4, 16000] loss: 0.474\n",
      "[4, 18000] loss: 0.474\n",
      "[4, 20000] loss: 0.482\n",
      "[5,  2000] loss: 0.472\n",
      "[5,  4000] loss: 0.475\n",
      "[5,  6000] loss: 0.473\n",
      "[5,  8000] loss: 0.466\n",
      "[5, 10000] loss: 0.476\n",
      "[5, 12000] loss: 0.473\n",
      "[5, 14000] loss: 0.479\n",
      "[5, 16000] loss: 0.472\n",
      "[5, 18000] loss: 0.473\n",
      "[5, 20000] loss: 0.481\n",
      "Finished Training\n"
     ]
    }
   ],
   "source": [
    "for epoch in range(5):  # loop over the dataset multiple times\n",
    "\n",
    "    running_loss = 0.0\n",
    "    for i, data in enumerate(dataloader, 0):\n",
    "        # geat the inputs; data is a list of [inputs, labels]\n",
    "        inputs, labels = data\n",
    "\n",
    "        # zero the parameter gradients\n",
    "        optimizer.zero_grad()\n",
    "\n",
    "        # forward + backward + optimize\n",
    "        outputs = model(inputs)\n",
    "        loss = criterion(outputs, labels)\n",
    "        loss.backward()\n",
    "        optimizer.step()\n",
    "\n",
    "        # print statistics\n",
    "        running_loss += loss.item()\n",
    "        if i % 2000 == 1999:    # print every 2000 mini-batches\n",
    "            print('[%d, %5d] loss: %.3f' %\n",
    "                  (epoch + 1, i + 1, running_loss / 2000))\n",
    "            running_loss = 0.0\n",
    "\n",
    "print('Finished Training')"
   ]
  },
  {
   "cell_type": "code",
   "execution_count": 65,
   "metadata": {},
   "outputs": [],
   "source": [
    "# dataset_test = QGDataset(X_torch[:1000], Y_torch[:1000])\n",
    "# dataloader_test = DataLoader(dataset_test, batch_size=5,\n",
    "#                         shuffle=False)"
   ]
  },
  {
   "cell_type": "code",
   "execution_count": 63,
   "metadata": {},
   "outputs": [],
   "source": [
    "def model_accuracy(model, data_x, data_y):\n",
    "    # data_x and data_y are numpy matrices\n",
    "    X = torch.Tensor(data_x)\n",
    "    Y = torch.ByteTensor(data_y)   # a Tensor of 0s and 1s\n",
    "    oupt = model(X)            # a Tensor of floats\n",
    "    pred_y = oupt >= 0.5       # a Tensor of 0s and 1s\n",
    "    num_correct = torch.sum(Y==pred_y)  # a Tensor\n",
    "    acc = (num_correct.item() * 100.0 / len(data_y))  # scalar\n",
    "    print('Accuracy: %d %%' % (acc))"
   ]
  },
  {
   "cell_type": "code",
   "execution_count": 64,
   "metadata": {},
   "outputs": [
    {
     "name": "stdout",
     "output_type": "stream",
     "text": [
      "Accuracy: 78 %\n"
     ]
    }
   ],
   "source": [
    "model_accuracy(model, X_torch, Y_torch.byte())"
   ]
  },
  {
   "cell_type": "code",
   "execution_count": null,
   "metadata": {},
   "outputs": [],
   "source": []
  }
 ],
 "metadata": {
  "kernelspec": {
   "display_name": "Python 3",
   "language": "python",
   "name": "python3"
  },
  "language_info": {
   "codemirror_mode": {
    "name": "ipython",
    "version": 3
   },
   "file_extension": ".py",
   "mimetype": "text/x-python",
   "name": "python",
   "nbconvert_exporter": "python",
   "pygments_lexer": "ipython3",
   "version": "3.6.7"
  }
 },
 "nbformat": 4,
 "nbformat_minor": 2
}
